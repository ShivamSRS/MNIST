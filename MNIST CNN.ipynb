{
 "cells": [
  {
   "cell_type": "code",
   "execution_count": null,
   "metadata": {},
   "outputs": [],
   "source": []
  },
  {
   "cell_type": "code",
   "execution_count": 1,
   "metadata": {},
   "outputs": [
    {
     "name": "stderr",
     "output_type": "stream",
     "text": [
      "Using TensorFlow backend.\n"
     ]
    }
   ],
   "source": [
    "import keras\n",
    "from keras.datasets import mnist\n",
    "from keras.models import Sequential\n",
    "from keras.layers import Dense, Dropout\n",
    "from keras.layers import Flatten,  MaxPooling2D, Conv2D\n",
    "from keras.callbacks import TensorBoard"
   ]
  },
  {
   "cell_type": "code",
   "execution_count": 2,
   "metadata": {},
   "outputs": [],
   "source": [
    "(X_train,y_train), (X_test, y_test) = mnist.load_data()\n",
    "\n",
    "X_train = X_train.reshape(60000,28,28,1).astype('float32')\n",
    "X_test = X_test.reshape(10000,28,28,1).astype('float32')\n",
    "\n",
    "X_train /= 255\n",
    "X_test /= 255\n",
    "\n",
    "n_classes = 10\n",
    "y_train = keras.utils.to_categorical(y_train, n_classes)\n",
    "y_test = keras.utils.to_categorical(y_test, n_classes)"
   ]
  },
  {
   "cell_type": "code",
   "execution_count": 3,
   "metadata": {},
   "outputs": [],
   "source": [
    "model = Sequential()\n",
    "model.add(Conv2D(32, kernel_size=(3,3), activation='relu', input_shape=(28,28,1)) )\n",
    "model.add(Conv2D(64, kernel_size=(3,3), activation='relu'))\n",
    "model.add(MaxPooling2D(pool_size=(2,2)))\n",
    "model.add(Dropout(0.25))\n",
    "model.add(Flatten())          \n",
    "model.add(Dense(128, activation='relu'))\n",
    "model.add(Dense(128, activation='relu'))\n",
    "model.add(Dropout(0.5))\n",
    "model.add(Dense(n_classes, activation='softmax'))"
   ]
  },
  {
   "cell_type": "code",
   "execution_count": 4,
   "metadata": {},
   "outputs": [],
   "source": [
    "model.compile(loss='categorical_crossentropy', optimizer='adam', metrics=['accuracy'])"
   ]
  },
  {
   "cell_type": "code",
   "execution_count": 7,
   "metadata": {},
   "outputs": [],
   "source": [
    "tensor_board = TensorBoard('./logs/LeNet-MNIST-1')\n",
    "import os\n",
    "from keras.callbacks import ModelCheckpoint\n",
    "#Directory in which to create models \n",
    "save_direc = os.path.join(os.getcwd(), 'mnistsavedmodels') \n",
    "#Name of model files\n",
    "model_name = 'mnistmodel.{epoch:03d}.h5' \n",
    "#Create Directory if it doesn't exist \n",
    "if not os.path.isdir(save_direc): \n",
    "    os.makedirs(save_direc) \n",
    "#Join the directory with the model file \n",
    "modelpath = os.path.join(save_direc, model_name) \n",
    "checkpoint = ModelCheckpoint(filepath=modelpath, monitor='val_acc', verbose=1, save_best_only=True, period=1) \n"
   ]
  },
  {
   "cell_type": "code",
   "execution_count": 8,
   "metadata": {},
   "outputs": [
    {
     "name": "stdout",
     "output_type": "stream",
     "text": [
      "Train on 60000 samples, validate on 10000 samples\n",
      "Epoch 1/15\n",
      "60000/60000 [==============================] - 14s 229us/step - loss: 0.2289 - acc: 0.9301 - val_loss: 0.0491 - val_acc: 0.9838\n",
      "Epoch 2/15\n",
      "60000/60000 [==============================] - 6s 95us/step - loss: 0.0689 - acc: 0.9802 - val_loss: 0.0429 - val_acc: 0.9867\n",
      "Epoch 3/15\n",
      "60000/60000 [==============================] - 6s 95us/step - loss: 0.0454 - acc: 0.9863 - val_loss: 0.0369 - val_acc: 0.9886\n",
      "Epoch 4/15\n",
      "60000/60000 [==============================] - 6s 96us/step - loss: 0.0354 - acc: 0.9896 - val_loss: 0.0291 - val_acc: 0.9913\n",
      "Epoch 5/15\n",
      "60000/60000 [==============================] - 6s 95us/step - loss: 0.0279 - acc: 0.9915 - val_loss: 0.0408 - val_acc: 0.9855\n",
      "Epoch 6/15\n",
      "60000/60000 [==============================] - 6s 96us/step - loss: 0.0243 - acc: 0.9928 - val_loss: 0.0282 - val_acc: 0.9911\n",
      "Epoch 7/15\n",
      "60000/60000 [==============================] - 6s 96us/step - loss: 0.0199 - acc: 0.9939 - val_loss: 0.0299 - val_acc: 0.9920\n",
      "Epoch 8/15\n",
      "60000/60000 [==============================] - 6s 95us/step - loss: 0.0161 - acc: 0.9950 - val_loss: 0.0295 - val_acc: 0.9916\n",
      "Epoch 9/15\n",
      "60000/60000 [==============================] - 6s 95us/step - loss: 0.0141 - acc: 0.9956 - val_loss: 0.0328 - val_acc: 0.9899\n",
      "Epoch 10/15\n",
      "60000/60000 [==============================] - 6s 96us/step - loss: 0.0128 - acc: 0.9960 - val_loss: 0.0307 - val_acc: 0.9932\n",
      "Epoch 11/15\n",
      "60000/60000 [==============================] - 6s 95us/step - loss: 0.0121 - acc: 0.9962 - val_loss: 0.0331 - val_acc: 0.9927\n",
      "Epoch 12/15\n",
      "60000/60000 [==============================] - 6s 96us/step - loss: 0.0100 - acc: 0.9969 - val_loss: 0.0410 - val_acc: 0.9896\n",
      "Epoch 13/15\n",
      "60000/60000 [==============================] - 6s 96us/step - loss: 0.0096 - acc: 0.9971 - val_loss: 0.0354 - val_acc: 0.9915\n",
      "Epoch 14/15\n",
      "60000/60000 [==============================] - 6s 95us/step - loss: 0.0088 - acc: 0.9972 - val_loss: 0.0396 - val_acc: 0.9919\n",
      "Epoch 15/15\n",
      "60000/60000 [==============================] - 6s 95us/step - loss: 0.0071 - acc: 0.9978 - val_loss: 0.0387 - val_acc: 0.9915\n"
     ]
    },
    {
     "data": {
      "text/plain": [
       "<keras.callbacks.History at 0x1a1b711b9b0>"
      ]
     },
     "execution_count": 8,
     "metadata": {},
     "output_type": "execute_result"
    }
   ],
   "source": [
    "model.fit(X_train, y_train, batch_size=128, epochs=15, verbose=1,\n",
    "          validation_data=(X_test,y_test), callbacks=[tensor_board])"
   ]
  },
  {
   "cell_type": "code",
   "execution_count": 9,
   "metadata": {},
   "outputs": [
    {
     "name": "stdout",
     "output_type": "stream",
     "text": [
      "10000/10000 [==============================] - 1s 117us/step\n",
      "Accuracy:  0.9915\n"
     ]
    }
   ],
   "source": [
    "#Evaluate the accuracy of the test dataset\n",
    "accuracy = model.evaluate(x=X_test,y=y_test,batch_size=32)\n",
    "print(\"Accuracy: \",accuracy[1])"
   ]
  },
  {
   "cell_type": "code",
   "execution_count": 11,
   "metadata": {},
   "outputs": [
    {
     "name": "stdout",
     "output_type": "stream",
     "text": [
      "76 th image\n"
     ]
    },
    {
     "data": {
      "image/png": "[encoded data removed]",
      "text/plain": [
       "<Figure size 432x288 with 1 Axes>"
      ]
     },
     "metadata": {
      "needs_background": "light"
     },
     "output_type": "display_data"
    },
    {
     "name": "stdout",
     "output_type": "stream",
     "text": [
      "Class:  3\n",
      "[0. 0. 0. 1. 0. 0. 0. 0. 0. 0.]\n"
     ]
    }
   ],
   "source": [
    "#checking a random image to see the result\n",
    "import random\n",
    "z=random.randint(1,100)\n",
    "def visualise_digits(arr_x,z):\n",
    "    import matplotlib.cm as cm\n",
    "    import matplotlib.pyplot as plt\n",
    "    print(z,\"th image\")\n",
    "    plt.imshow(arr_x[z].reshape((28,28)),cmap=cm.Greys_r)\n",
    "    plt.show()\n",
    "visualise_digits(X_test,z)\n",
    "img_class = model.predict_classes(X_test) \n",
    "classname = img_class[z] \n",
    "print(\"Class: \",classname)\n",
    "print(y_test[z])"
   ]
  },
  {
   "cell_type": "code",
   "execution_count": 12,
   "metadata": {},
   "outputs": [],
   "source": [
    "model.save(\"mnistmodel.h5\")"
   ]
  },
  {
   "cell_type": "code",
   "execution_count": null,
   "metadata": {},
   "outputs": [],
   "source": []
  }
 ],
 "metadata": {
  "kernelspec": {
   "display_name": "Python 3",
   "language": "python",
   "name": "python3"
  },
  "language_info": {
   "codemirror_mode": {
    "name": "ipython",
    "version": 3
   },
   "file_extension": ".py",
   "mimetype": "text/x-python",
   "name": "python",
   "nbconvert_exporter": "python",
   "pygments_lexer": "ipython3",
   "version": "3.6.6"
  }
 },
 "nbformat": 4,
 "nbformat_minor": 2
}
